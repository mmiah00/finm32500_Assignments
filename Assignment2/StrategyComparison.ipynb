{
 "cells": [
  {
   "cell_type": "markdown",
   "id": "68be7f1d",
   "metadata": {},
   "source": [
    "# Strategy Comparisons\n",
    "\n",
    "This notebook compares the performances of five strategies: \n",
    "* Benchmark Strategy: Buy X shares of each ticker on the first day, hold until the end. \n",
    "* Moving Average Strategy: Buy if 20-day moving average of a ticker is greater than the 50-da  moving average\n",
    "* Volatility Breakout Strategy: Buy if the daily return of a ticker is greater than the rolling 20-day standard deviation \n",
    "* MACD Strategy: Buy if MACD line crosses above signal line \n",
    "* RSI Strategy: Buy if the RSI of a ticker is less than 30"
   ]
  },
  {
   "cell_type": "markdown",
   "id": "8fc1adb2",
   "metadata": {},
   "source": [
    "### Setup "
   ]
  },
  {
   "cell_type": "code",
   "execution_count": null,
   "id": "b879bf7e",
   "metadata": {
    "vscode": {
     "languageId": "plaintext"
    }
   },
   "outputs": [],
   "source": [
    "from PriceLoader import PriceLoader\n",
    "from BenchmarkStrategy import BenchmarkStrategy\n",
    "from MovingAverageStrategy import MovingAverageStrategy\n",
    "from VolatilityBreakoutStrategy import VolatilityBreakoutStrategy\n",
    "from MACDStrategy import MACDStrategy\n",
    "from RSIStrategy import RSIStrategy\n",
    "\n",
    "import pandas as pd\n",
    "import matplotlib.pyplot as plt\n",
    "import numpy as np\n",
    "\n",
    "loader = PriceLoader()\n",
    "ticks = loader.load_tickers() \n",
    "# loader.download_ticker_prices()  \n",
    "price_data = loader.get_select_ticker_data(loader.tickers)"
   ]
  },
  {
   "cell_type": "markdown",
   "id": "e969d1ed",
   "metadata": {},
   "source": [
    "## Benchmark Strategy Results "
   ]
  },
  {
   "cell_type": "code",
   "execution_count": null,
   "id": "ebb3cff3",
   "metadata": {
    "vscode": {
     "languageId": "plaintext"
    }
   },
   "outputs": [],
   "source": [
    "print (\"Testing Benchmark Strategy\")\n",
    "strat1 = BenchmarkStrategy() \n",
    "strat1.run(price_data)\n",
    "benchmark_results = strat1.get_results() \n",
    "\n",
    "\n",
    "dates = price_data['ZTS'].index\n",
    "\n",
    "prices_plot = benchmark_results['Portfolio Value']\n",
    "\n",
    "plt.style.use('seaborn-v0_8-whitegrid')  \n",
    "benchmark_results.plot(figsize=(10, 6))\n",
    "\n",
    "plt.title('Benchmark Strategy Results for S&P 500 Tickers from 01-01-2005 to 01-01-2025', fontsize=16)\n",
    "plt.xlabel('Date', fontsize=12)\n",
    "plt.ylabel('Price', fontsize=12)\n",
    "\n",
    "plt.show()\n",
    "\n",
    "'''\n",
    "SAMPLE OF PLOTTING\n",
    "\n",
    "# 1. Create a sample time series DataFrame\n",
    "data = {'value': np.random.randn(365).cumsum()}\n",
    "dates = pd.date_range(start='2024-01-01', periods=365, freq='D')\n",
    "df = pd.DataFrame(data, index=dates)\n",
    "\n",
    "# 2. Plot the time series\n",
    "plt.style.use('seaborn-v0_8-whitegrid') # Optional: for a cleaner style\n",
    "df.plot(figsize=(10, 6))\n",
    "\n",
    "# 3. Add titles and labels for clarity\n",
    "plt.title('Daily Cumulative Random Values (Time Series)', fontsize=16)\n",
    "plt.xlabel('Date', fontsize=12)\n",
    "plt.ylabel('Value', fontsize=12)\n",
    "\n",
    "# 4. Display the plot\n",
    "plt.show()\n",
    "\n",
    "'''"
   ]
  },
  {
   "cell_type": "markdown",
   "id": "61898e27",
   "metadata": {},
   "source": [
    "## Moving Average Strategy Results "
   ]
  }
 ],
 "metadata": {
  "language_info": {
   "name": "python"
  }
 },
 "nbformat": 4,
 "nbformat_minor": 5
}
