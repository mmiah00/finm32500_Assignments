{
 "cells": [
  {
   "cell_type": "markdown",
   "id": "68be7f1d",
   "metadata": {},
   "source": [
    "# Strategy Comparisons\n",
    "\n",
    "This notebook compares the performances of five strategies: \n",
    "* Benchmark Strategy: Buy X shares of each ticker on the first day, hold until the end. \n",
    "* Moving Average Strategy: Buy if 20-day moving average of a ticker is greater than the 50-da  moving average\n",
    "* Volatility Breakout Strategy: Buy if the daily return of a ticker is greater than the rolling 20-day standard deviation \n",
    "* MACD Strategy: Buy if MACD line crosses above signal line \n",
    "* RSI Strategy: Buy if the RSI of a ticker is less than 30"
   ]
  },
  {
   "cell_type": "markdown",
   "id": "8fc1adb2",
   "metadata": {},
   "source": [
    "### Setup "
   ]
  },
  {
   "cell_type": "code",
   "execution_count": null,
   "id": "b879bf7e",
   "metadata": {
    "vscode": {
     "languageId": "plaintext"
    }
   },
   "outputs": [],
   "source": [
    "from PriceLoader import PriceLoader\n",
    "from BenchmarkStrategy import BenchmarkStrategy\n",
    "from MovingAverageStrategy import MovingAverageStrategy\n",
    "from VolatilityBreakoutStrategy import VolatilityBreakoutStrategy\n",
    "from MACDStrategy import MACDStrategy\n",
    "from RSIStrategy import RSIStrategy\n",
    "\n",
    "import pandas as pd\n",
    "import matplotlib.pyplot as plt\n",
    "import numpy as np\n",
    "\n",
    "loader = PriceLoader()\n",
    "ticks = loader.load_tickers() \n",
    "# loader.download_ticker_prices()  \n",
    "price_data = loader.get_select_ticker_data(loader.tickers)"
   ]
  },
  {
   "cell_type": "code",
   "execution_count": null,
   "id": "a7697ac9",
   "metadata": {
    "vscode": {
     "languageId": "plaintext"
    }
   },
   "outputs": [],
   "source": [
    "def produce_signal_price_chart(strategy, strategy_results, ticker, dates, price_series): \n",
    "    # generates signal overlay on price chart of a single ticker for a given strategy\n",
    "\n",
    "    plt.figure(figsize=(12, 6))\n",
    "\n",
    "    # Plot price\n",
    "    plt.plot(dates, price_series, label='Price', color='blue')\n",
    "\n",
    "    # Overlay buy/sell signals\n",
    "\n",
    "    plt.scatter(dates, strategy.signals, label='Buy Signal', marker='^', color='green', s=100)\n",
    "\n",
    "    plt.title('Signal Overlay on Price Chart')\n",
    "    plt.xlabel('Date')\n",
    "    plt.ylabel('Price')\n",
    "    plt.legend()\n",
    "    plt.grid(True)\n",
    "    plt.show()\n",
    "\n",
    "\n",
    "    '''\n",
    "    plt.figure(figsize=(12,6))\n",
    "    plt.plot(price_series.index, price_series, label=f\"{ticker} Price\", color=\"blue\")\n",
    "\n",
    "    if ticker in strategy.signals: \n",
    "        signals = strategy.signals[ticker]\n",
    "        plt.scatter(\n",
    "            signals[signals == 1].index,\n",
    "            price_series.loc[signals == 1],\n",
    "            marker=\"^\", s=80, label=f\"{name} Buy\", alpha=0.7\n",
    "        )\n",
    "\n",
    "    plt.title(f\"Signal Overlay: {ticker}\")\n",
    "    plt.legend()\n",
    "    plt.grid(True)\n",
    "    plt.show()\n",
    "    '''\n",
    "\n",
    "def produce_holdings_chart(strategy_results): \n",
    "    # generates chart of holdings over time \n",
    "\n",
    "    plt.figure(figsize=(12,4))\n",
    "    plt.plot(strategy_results['Date'], strategy_results['Holdings'], label='Holdings', color='purple')\n",
    "    plt.title('Holdings Over Time')\n",
    "    plt.xlabel('Date')\n",
    "    plt.ylabel('Number of Shares')\n",
    "    plt.grid(True)\n",
    "    plt.legend()\n",
    "    plt.show()\n",
    "\n",
    "def produce_cash_chart(strategy_results): \n",
    "    # generates chart of cash balance over time \n",
    "\n",
    "    plt.figure(figsize=(12,4))\n",
    "    plt.plot(results['Date'], results['Cash'], label='Cash Balance', color='orange')\n",
    "    plt.title('Cash Balance Over Time')\n",
    "    plt.xlabel('Date')\n",
    "    plt.ylabel('Cash ($)')\n",
    "    plt.grid(True)\n",
    "    plt.legend()\n",
    "    plt.show()\n",
    "\n",
    "def produce_portfolio_val_chart (strategy_results): \n",
    "    # generates chart of portfolio value over time \n",
    "\n",
    "    plt.figure(figsize=(12,4))\n",
    "    plt.plot(strategy_results['Date'], strategy_results['PortfolioValue'], label='Total Portfolio Value', color='teal')\n",
    "    plt.title('Total Portfolio Value Over Time')\n",
    "    plt.xlabel('Date')\n",
    "    plt.ylabel('Value ($)')\n",
    "    plt.grid(True)\n",
    "    plt.legend()\n",
    "    plt.show()\n"
   ]
  },
  {
   "cell_type": "markdown",
   "id": "e969d1ed",
   "metadata": {},
   "source": [
    "## Benchmark Strategy Results "
   ]
  },
  {
   "cell_type": "code",
   "execution_count": null,
   "id": "ebb3cff3",
   "metadata": {
    "vscode": {
     "languageId": "plaintext"
    }
   },
   "outputs": [],
   "source": [
    "strat1 = BenchmarkStrategy() \n",
    "strat1.run(price_data)\n",
    "benchmark_results = strat1.get_results() \n",
    "\n",
    "\n",
    "dates = price_data['MSFT'].index\n",
    "\n",
    "########################\n",
    "# 1. Signal overlay on price chart for MSFT ticker \n",
    "########################\n",
    "\n",
    "ticker = \"MSFT\"\n",
    "price_series = price_data[ticker]\n",
    "\n",
    "produce_signal_price_chart(strat1, ticker, dates, price_series) \n",
    "\n",
    "########################\n",
    "# 2. Holdings over time\n",
    "########################\n",
    "\n",
    "produce_holdings_chart (benchmark_results)\n",
    "\n",
    "########################\n",
    "# 3. Cash balance\n",
    "########################\n",
    "\n",
    "produce_cash_chart (benchmark_results)\n",
    "\n",
    "########################\n",
    "# 4. Total portfolio value\n",
    "########################\n",
    "\n",
    "produce_portfolio_val_chart (benchmark_results)\n"
   ]
  },
  {
   "cell_type": "markdown",
   "id": "61898e27",
   "metadata": {},
   "source": [
    "## Moving Average Strategy Results "
   ]
  },
  {
   "cell_type": "code",
   "execution_count": null,
   "id": "55c2a53a",
   "metadata": {
    "vscode": {
     "languageId": "plaintext"
    }
   },
   "outputs": [],
   "source": [
    "strat2 = MovingAverageStrategy() \n",
    "strat2.run(price_data)\n",
    "ma_results = strat2.get_results() \n",
    "\n",
    "\n",
    "########################\n",
    "# 1. Signal overlay on price chart for MSFT ticker \n",
    "########################\n",
    "\n",
    "ticker = \"MSFT\"\n",
    "price_series = price_data[ticker]\n",
    "\n",
    "produce_signal_price_chart(strat2, ticker, dates, price_series) \n",
    "\n",
    "########################\n",
    "# 2. Holdings over time\n",
    "########################\n",
    "\n",
    "produce_holdings_chart (ma_results)\n",
    "\n",
    "########################\n",
    "# 3. Cash balance\n",
    "########################\n",
    "\n",
    "produce_cash_chart (ma_results)\n",
    "\n",
    "########################\n",
    "# 4. Total portfolio value\n",
    "########################\n",
    "\n",
    "produce_portfolio_val_chart (ma_results)\n"
   ]
  },
  {
   "cell_type": "markdown",
   "id": "db6fffb5",
   "metadata": {},
   "source": [
    "## Volatility Breakout Strategy Results "
   ]
  },
  {
   "cell_type": "code",
   "execution_count": null,
   "id": "ec79fc14",
   "metadata": {
    "vscode": {
     "languageId": "plaintext"
    }
   },
   "outputs": [],
   "source": [
    "strat3 = VolatilityBreakoutStrategy() \n",
    "strat3.run(price_data)\n",
    "vol_results = strat3.get_results() \n",
    "\n",
    "\n",
    "########################\n",
    "# 1. Signal overlay on price chart for MSFT ticker \n",
    "########################\n",
    "\n",
    "ticker = \"MSFT\"\n",
    "price_series = price_data[ticker]\n",
    "\n",
    "produce_signal_price_chart(strat3, ticker, dates, price_series) \n",
    "\n",
    "########################\n",
    "# 2. Holdings over time\n",
    "########################\n",
    "\n",
    "produce_holdings_chart (vol_results)\n",
    "\n",
    "########################\n",
    "# 3. Cash balance\n",
    "########################\n",
    "\n",
    "produce_cash_chart (vol_results)\n",
    "\n",
    "########################\n",
    "# 4. Total portfolio value\n",
    "########################\n",
    "\n",
    "produce_portfolio_val_chart (vol_results)\n"
   ]
  },
  {
   "cell_type": "markdown",
   "id": "71a9413e",
   "metadata": {},
   "source": [
    "## MACD Strategy Results "
   ]
  },
  {
   "cell_type": "code",
   "execution_count": null,
   "id": "ed91fd5e",
   "metadata": {
    "vscode": {
     "languageId": "plaintext"
    }
   },
   "outputs": [],
   "source": [
    "strat4 = MACDStrategy() \n",
    "strat4.run(price_data)\n",
    "macd_results = strat4.get_results() \n",
    "\n",
    "\n",
    "########################\n",
    "# 1. Signal overlay on price chart for MSFT ticker \n",
    "########################\n",
    "\n",
    "ticker = \"MSFT\"\n",
    "price_series = price_data[ticker]\n",
    "\n",
    "produce_signal_price_chart(strat4, ticker, dates, price_series) \n",
    "\n",
    "########################\n",
    "# 2. Holdings over time\n",
    "########################\n",
    "\n",
    "produce_holdings_chart (macd_results)\n",
    "\n",
    "########################\n",
    "# 3. Cash balance\n",
    "########################\n",
    "\n",
    "produce_cash_chart (macd_results)\n",
    "\n",
    "########################\n",
    "# 4. Total portfolio value\n",
    "########################\n",
    "\n",
    "produce_portfolio_val_chart (macd_results)\n"
   ]
  },
  {
   "cell_type": "markdown",
   "id": "723e0b98",
   "metadata": {},
   "source": [
    "## RSI Strategy Results "
   ]
  },
  {
   "cell_type": "code",
   "execution_count": null,
   "id": "b25473a3",
   "metadata": {
    "vscode": {
     "languageId": "plaintext"
    }
   },
   "outputs": [],
   "source": [
    "strat5 = RSIStrategy() \n",
    "strat5.run(price_data)\n",
    "rsi_results = strat5.get_results() \n",
    "\n",
    "\n",
    "########################\n",
    "# 1. Signal overlay on price chart for MSFT ticker \n",
    "########################\n",
    "\n",
    "ticker = \"MSFT\"\n",
    "price_series = price_data[ticker]\n",
    "\n",
    "produce_signal_price_chart(strat5, ticker, dates, price_series) \n",
    "\n",
    "########################\n",
    "# 2. Holdings over time\n",
    "########################\n",
    "\n",
    "produce_holdings_chart (rsi_results)\n",
    "\n",
    "########################\n",
    "# 3. Cash balance\n",
    "########################\n",
    "\n",
    "produce_cash_chart (rsi_results)\n",
    "\n",
    "########################\n",
    "# 4. Total portfolio value\n",
    "########################\n",
    "\n",
    "produce_portfolio_val_chart (rsi_results)\n"
   ]
  }
 ],
 "metadata": {
  "language_info": {
   "name": "python"
  }
 },
 "nbformat": 4,
 "nbformat_minor": 5
}
