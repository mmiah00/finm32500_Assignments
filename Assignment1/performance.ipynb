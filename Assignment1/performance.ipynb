{
 "cells": [
  {
   "cell_type": "markdown",
   "id": "572c29c8",
   "metadata": {},
   "source": [
    "This notebook is a collection of metrics, tables, and plots based on recent market data points. "
   ]
  },
  {
   "cell_type": "markdown",
   "id": "3dc4ee1d",
   "metadata": {},
   "source": [
    "Equity-Curve Plot "
   ]
  },
  {
   "cell_type": "code",
   "execution_count": null,
   "id": "d0d3ddf2",
   "metadata": {
    "vscode": {
     "languageId": "plaintext"
    }
   },
   "outputs": [],
   "source": []
  }
 ],
 "metadata": {
  "language_info": {
   "name": "python"
  }
 },
 "nbformat": 4,
 "nbformat_minor": 5
}
